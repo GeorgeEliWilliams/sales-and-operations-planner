{
 "cells": [
  {
   "cell_type": "code",
   "execution_count": null,
   "id": "28aa0858",
   "metadata": {},
   "outputs": [],
   "source": [
    "# input the initial stock levels for a product and the number of months to plan from the user\n",
    "initial_stock = int(input(' Enter your initial stock : '))\n",
    "num_of_months = int(input('What are the number of months to plan : '))\n",
    "\n",
    "# create a list to store the quantity of product per month\n",
    "qty_per_month = []\n",
    "for i in range(num_of_months):\n",
    "    sales_quantity = int(input('What is the planned sales quantity? : '))\n",
    "    qty_per_month.append(sales_quantity)\n",
    "    \n",
    "production_quantity = []\n",
    "\n",
    "#calculate the production quantity per month\n",
    "for i in qty_per_month:\n",
    "    if initial_stock > i:\n",
    "        production_quantity.append(0)\n",
    "        initial_stock = initial_stock - i\n",
    "    elif initial_stock < 0:\n",
    "        production_quantity.append(i)\n",
    "    else :\n",
    "        initial_stock = initial_stock - i\n",
    "        production_quantity.append(abs(initial_stock))\n",
    "        \n",
    "        \n",
    "#print the result of the calculations\n",
    "i = 1\n",
    "for x in production_quantity:\n",
    "    print('Production quantity month', i, ' - ', x)\n",
    "    i = i+1\n"
   ]
  },
  {
   "cell_type": "markdown",
   "id": "1dc09e2e",
   "metadata": {},
   "source": []
  }
 ],
 "metadata": {
  "kernelspec": {
   "display_name": "Python 3 (ipykernel)",
   "language": "python",
   "name": "python3"
  },
  "language_info": {
   "codemirror_mode": {
    "name": "ipython",
    "version": 3
   },
   "file_extension": ".py",
   "mimetype": "text/x-python",
   "name": "python",
   "nbconvert_exporter": "python",
   "pygments_lexer": "ipython3",
   "version": "3.9.7"
  }
 },
 "nbformat": 4,
 "nbformat_minor": 5
}
